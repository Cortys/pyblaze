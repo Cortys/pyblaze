{
 "cells": [
  {
   "cell_type": "markdown",
   "metadata": {},
   "source": [
    "# Variational Autoencoders\n",
    "\n",
    "In this tutorial, we want to use PyBlaze to train a variational autoencoder (VAE). More precisely, we want to generate handwritten digits as obtained from the MNIST dataset.\n",
    "\n",
    "Later on, we will repeat the same tutorial and train a Wasserstein GAN instead of a VAE.\n",
    "\n",
    "**_Note: This tutorial currently lacks both explanation and any theory. It will be added in the future._**"
   ]
  },
  {
   "cell_type": "code",
   "execution_count": 1,
   "metadata": {},
   "outputs": [],
   "source": [
    "import numpy as np\n",
    "import torch\n",
    "import torch.nn as nn\n",
    "import torch.nn.functional as F\n",
    "import torch.optim as optim\n",
    "import torch.distributions as D\n",
    "import torchvision\n",
    "import torchvision.transforms as transforms\n",
    "import pyblaze.nn as xnn\n",
    "import pyblaze.nn.functional as X\n",
    "import matplotlib.pyplot as plt"
   ]
  },
  {
   "cell_type": "markdown",
   "metadata": {},
   "source": [
    "## Loading the Data\n",
    "\n",
    "At first, we want to load the data. Again, `torchvision` can make our life easier:"
   ]
  },
  {
   "cell_type": "code",
   "execution_count": 2,
   "metadata": {},
   "outputs": [],
   "source": [
    "train_val_dataset = torchvision.datasets.MNIST(\n",
    "    root=\"~/Downloads/\", train=True, download=True, transform=transforms.ToTensor()\n",
    ")\n",
    "test_dataset = torchvision.datasets.MNIST(\n",
    "    root=\"~/Downloads/\", train=False, download=True, transform=transforms.ToTensor()\n",
    ")"
   ]
  },
  {
   "cell_type": "markdown",
   "metadata": {},
   "source": [
    "As we did before, we can also easily initialize the data loaders:"
   ]
  },
  {
   "cell_type": "code",
   "execution_count": 3,
   "metadata": {},
   "outputs": [],
   "source": [
    "train_dataset, val_dataset = train_val_dataset.random_split(0.8, 0.2)\n",
    "train_loader = train_dataset.loader(batch_size=256, num_workers=4, shuffle=True)\n",
    "val_loader = val_dataset.loader(batch_size=2048)\n",
    "test_loader = test_dataset.loader(batch_size=2048)"
   ]
  },
  {
   "cell_type": "markdown",
   "metadata": {},
   "source": [
    "Before we continue to set up our model, we first have a look at a few randomly sampled images from our training data:"
   ]
  },
  {
   "cell_type": "code",
   "execution_count": 4,
   "metadata": {
    "scrolled": false
   },
   "outputs": [
    {
     "data": {
      "image/png": "[encoded data removed]",
      "text/plain": [
       "<Figure size 900x600 with 10 Axes>"
      ]
     },
     "metadata": {
      "needs_background": "light"
     },
     "output_type": "display_data"
    }
   ],
   "source": [
    "plt.figure(dpi=150)\n",
    "\n",
    "images = [train_dataset[i] for i in np.random.choice(len(train_dataset), 10)]\n",
    "for i, (image, _) in enumerate(images):\n",
    "    plt.subplot(1, 10, i+1)\n",
    "    plt.imshow(image[0], cmap='binary')\n",
    "    plt.axis('off')\n",
    "\n",
    "plt.show()"
   ]
  },
  {
   "cell_type": "markdown",
   "metadata": {},
   "source": [
    "## Defining the Model\n",
    "\n",
    "After we had a look at the data, we can define our model. We use convolutional layers in the encoder and scale the hidden representation up in the end."
   ]
  },
  {
   "cell_type": "code",
   "execution_count": 9,
   "metadata": {},
   "outputs": [],
   "source": [
    "class Encoder(nn.Module):\n",
    "    \n",
    "    def __init__(self):\n",
    "        super().__init__()\n",
    "        self.conv = nn.Sequential(\n",
    "            nn.Conv2d(1, 32, 3),\n",
    "            nn.ReLU(),\n",
    "            nn.Conv2d(32, 64, 5),\n",
    "            nn.ReLU(),\n",
    "            nn.MaxPool2d(2),\n",
    "            nn.Conv2d(64, 64, 5),\n",
    "            nn.ReLU(),\n",
    "            nn.MaxPool2d(2)\n",
    "        )\n",
    "        self.fc_mu = nn.Linear(576, 16)\n",
    "        self.fc_logvar = nn.Linear(576, 16)\n",
    "        \n",
    "    def forward(self, x):\n",
    "        z = self.conv(x)\n",
    "        z = z.view(z.size(0), -1)\n",
    "        return self.fc_mu(z), self.fc_logvar(z)\n",
    "    \n",
    "\n",
    "class Decoder(nn.Module):\n",
    "    \n",
    "    def __init__(self):\n",
    "        super().__init__()\n",
    "        self.fc = nn.Linear(16, 2048)\n",
    "        self.conv = nn.Sequential(\n",
    "            nn.ReLU(),\n",
    "            nn.ConvTranspose2d(128, 64, 5, stride=2),\n",
    "            nn.ReLU(),\n",
    "            nn.ConvTranspose2d(64, 32, 5, stride=2, padding=1),\n",
    "            nn.ReLU(),\n",
    "            nn.ConvTranspose2d(32, 1, 6)\n",
    "        )\n",
    "        \n",
    "    def forward(self, x):\n",
    "        z = self.fc(x)\n",
    "        z = z.view(-1, 128, 4, 4)\n",
    "        return self.conv(z)\n",
    "\n",
    "\n",
    "class VAE(nn.Module):\n",
    "\n",
    "    def __init__(self):\n",
    "        super().__init__()\n",
    "        self.encoder = Encoder()\n",
    "        self.decoder = Decoder()\n",
    "\n",
    "    def forward(self, x):\n",
    "        mu, logvar = self.encoder(x)\n",
    "        std = (0.5 * logvar).exp()\n",
    "        eps = torch.randn_like(std)\n",
    "        z = mu + eps * std\n",
    "        return self.decoder(z), mu, logvar"
   ]
  },
  {
   "cell_type": "markdown",
   "metadata": {},
   "source": [
    "Having defined the model, we can initialize it. Let's also see how big it is:"
   ]
  },
  {
   "cell_type": "code",
   "execution_count": 10,
   "metadata": {},
   "outputs": [
    {
     "name": "stdout",
     "output_type": "stream",
     "text": [
      "Total parameters:   464,577\n",
      "Encoder parameters: 172,512\n",
      "Decoder parameters: 292,065\n"
     ]
    }
   ],
   "source": [
    "model = VAE()\n",
    "\n",
    "print(f'Total parameters:   {sum(p.numel() for p in model.parameters()):6,}')\n",
    "print(f'Encoder parameters: {sum(p.numel() for p in model.encoder.parameters()):6,}')\n",
    "print(f'Decoder parameters: {sum(p.numel() for p in model.decoder.parameters()):6,}')"
   ]
  },
  {
   "cell_type": "markdown",
   "metadata": {},
   "source": [
    "## Training the Model"
   ]
  },
  {
   "cell_type": "code",
   "execution_count": 11,
   "metadata": {},
   "outputs": [],
   "source": [
    "optimizer = optim.Adam(model.parameters())\n",
    "loss = xnn.VAELoss(nn.BCEWithLogitsLoss(reduction='none'))\n",
    "engine = xnn.VAEEngine(model, ignore_target=True)"
   ]
  },
  {
   "cell_type": "code",
   "execution_count": 13,
   "metadata": {
    "scrolled": false
   },
   "outputs": [
    {
     "name": "stdout",
     "output_type": "stream",
     "text": [
      "Epoch 1/50:\n",
      "\u001b[2K [Elapsed 0:00:05] loss: 118.51201, val_loss: 115.26118                 \n",
      "Epoch 2/50:\n",
      "\u001b[2K [Elapsed 0:00:03] loss: 113.55631                                      \n",
      "Epoch 3/50:\n",
      "\u001b[2K [Elapsed 0:00:04] loss: 111.00774                                      \n",
      "Epoch 4/50:\n",
      "\u001b[2K [Elapsed 0:00:03] loss: 109.32158                                      \n",
      "Epoch 5/50:\n",
      "\u001b[2K [Elapsed 0:00:03] loss: 108.07115                                      \n",
      "Epoch 6/50:\n",
      "\u001b[2K [Elapsed 0:00:05] loss: 107.17001, val_loss: 107.45156                 \n",
      "Epoch 7/50:\n",
      "\u001b[2K [Elapsed 0:00:03] loss: 106.43701                                      \n",
      "Epoch 8/50:\n",
      "\u001b[2K [Elapsed 0:00:03] loss: 105.80994                                      \n",
      "Epoch 9/50:\n",
      "\u001b[2K [Elapsed 0:00:04] loss: 105.05345                                      \n",
      "Epoch 10/50:\n",
      "\u001b[2K [Elapsed 0:00:03] loss: 104.67090                                      \n",
      "Epoch 11/50:\n",
      "\u001b[2K [Elapsed 0:00:05] loss: 104.32452, val_loss: 104.57639                 \n",
      "Epoch 12/50:\n",
      "\u001b[2K [Elapsed 0:00:04] loss: 103.86913                                      \n",
      "Epoch 13/50:\n",
      "\u001b[2K [Elapsed 0:00:03] loss: 103.51594                                      \n",
      "Epoch 14/50:\n",
      "\u001b[2K [Elapsed 0:00:04] loss: 103.27515                                      \n",
      "Epoch 15/50:\n",
      "\u001b[2K [Elapsed 0:00:04] loss: 102.88661                                      \n",
      "Epoch 16/50:\n",
      "\u001b[2K [Elapsed 0:00:05] loss: 102.66699, val_loss: 103.69695                 \n",
      "Epoch 17/50:\n",
      "\u001b[2K [Elapsed 0:00:04] loss: 102.43193                                      \n",
      "Epoch 18/50:\n",
      "\u001b[2K [Elapsed 0:00:03] loss: 102.16697                                      \n",
      "Epoch 19/50:\n",
      "\u001b[2K [Elapsed 0:00:03] loss: 101.95805                                      \n",
      "Epoch 20/50:\n",
      "\u001b[2K [Elapsed 0:00:04] loss: 101.81043                                      \n",
      "Epoch 21/50:\n",
      "\u001b[2K [Elapsed 0:00:05] loss: 101.63742, val_loss: 102.69079                 \n",
      "Epoch 22/50:\n",
      "\u001b[2K [Elapsed 0:00:04] loss: 101.51181                                      \n",
      "Epoch 23/50:\n",
      "\u001b[2K [Elapsed 0:00:04] loss: 101.24359                                      \n",
      "Epoch 24/50:\n",
      "\u001b[2K [Elapsed 0:00:04] loss: 101.08137                                      \n",
      "Epoch 25/50:\n",
      "\u001b[2K [Elapsed 0:00:04] loss: 100.97941                                      \n",
      "Epoch 26/50:\n",
      "\u001b[2K [Elapsed 0:00:05] loss: 100.85451, val_loss: 101.85766                 \n",
      "Epoch 27/50:\n",
      "\u001b[2K [Elapsed 0:00:04] loss: 100.71744                                      \n",
      "Epoch 28/50:\n",
      "\u001b[2K [Elapsed 0:00:04] loss: 100.52822                                      \n",
      "Epoch 29/50:\n",
      "\u001b[2K [Elapsed 0:00:04] loss: 100.44408                                      \n",
      "Epoch 30/50:\n",
      "\u001b[2K [Elapsed 0:00:04] loss: 100.28799                                      \n",
      "Epoch 31/50:\n",
      "\u001b[2K [Elapsed 0:00:05] loss: 100.14010, val_loss: 101.87722                 \n",
      "Epoch 32/50:\n",
      "\u001b[2K [Elapsed 0:00:04] loss: 100.10042                                      \n",
      "Epoch 33/50:\n",
      "\u001b[2K [Elapsed 0:00:04] loss: 99.97387                                       \n",
      "Epoch 34/50:\n",
      "\u001b[2K [Elapsed 0:00:04] loss: 99.88238                                       \n",
      "Epoch 35/50:\n",
      "\u001b[2K [Elapsed 0:00:03] loss: 99.76398                                       \n",
      "Epoch 36/50:\n",
      "\u001b[2K [Elapsed 0:00:05] loss: 99.66143, val_loss: 101.11905                  \n",
      "Epoch 37/50:\n",
      "\u001b[2K [Elapsed 0:00:03] loss: 99.62326                                       \n",
      "Epoch 38/50:\n",
      "\u001b[2K [Elapsed 0:00:04] loss: 99.60792                                       \n",
      "Epoch 39/50:\n",
      "\u001b[2K [Elapsed 0:00:03] loss: 99.41350                                       \n",
      "Epoch 40/50:\n",
      "\u001b[2K [Elapsed 0:00:04] loss: 99.40492                                       \n",
      "Epoch 41/50:\n",
      "\u001b[2K [Elapsed 0:00:05] loss: 99.16134, val_loss: 101.04691                  \n",
      "Epoch 42/50:\n",
      "\u001b[2K [Elapsed 0:00:03] loss: 99.23911                                       \n",
      "Epoch 43/50:\n",
      "\u001b[2K [Elapsed 0:00:04] loss: 99.07741                                       \n",
      "Epoch 44/50:\n",
      "\u001b[2K [Elapsed 0:00:04] loss: 99.00583                                       \n",
      "Epoch 45/50:\n",
      "\u001b[2K [Elapsed 0:00:03] loss: 98.97867                                       \n",
      "Epoch 46/50:\n",
      "\u001b[2K [Elapsed 0:00:05] loss: 98.88123, val_loss: 100.59046                  \n",
      "Epoch 47/50:\n",
      "\u001b[2K [Elapsed 0:00:03] loss: 98.82771                                       \n",
      "Epoch 48/50:\n",
      "\u001b[2K [Elapsed 0:00:03] loss: 98.72779                                       \n",
      "Epoch 49/50:\n",
      "\u001b[2K [Elapsed 0:00:04] loss: 98.71509                                       \n",
      "Epoch 50/50:\n",
      "\u001b[2K [Elapsed 0:00:05] loss: 98.62963, val_loss: 100.43390                  \n"
     ]
    }
   ],
   "source": [
    "history = engine.train(\n",
    "    train_loader,\n",
    "    val_data=val_loader,\n",
    "    epochs=50,\n",
    "    eval_every=5,\n",
    "    optimizer=optimizer,\n",
    "    loss=loss,\n",
    "    callbacks=[\n",
    "        xnn.BatchProgressLogger()\n",
    "    ]\n",
    ")"
   ]
  },
  {
   "cell_type": "code",
   "execution_count": 14,
   "metadata": {},
   "outputs": [],
   "source": [
    "it = next(iter(test_loader))"
   ]
  },
  {
   "cell_type": "code",
   "execution_count": 15,
   "metadata": {},
   "outputs": [],
   "source": [
    "latent, var = model.encoder(it[0])"
   ]
  },
  {
   "cell_type": "code",
   "execution_count": 16,
   "metadata": {},
   "outputs": [],
   "source": [
    "out = model(it[0])[0]"
   ]
  },
  {
   "cell_type": "code",
   "execution_count": 17,
   "metadata": {},
   "outputs": [],
   "source": [
    "out = out.sigmoid().detach().numpy()"
   ]
  },
  {
   "cell_type": "code",
   "execution_count": 18,
   "metadata": {},
   "outputs": [
    {
     "data": {
      "image/png": "[encoded data removed]",
      "text/plain": [
       "<Figure size 900x600 with 10 Axes>"
      ]
     },
     "metadata": {
      "needs_background": "light"
     },
     "output_type": "display_data"
    }
   ],
   "source": [
    "plt.figure(dpi=150)\n",
    "\n",
    "for i in range(10):\n",
    "    plt.subplot(1, 10, i+1)\n",
    "    plt.imshow(np.concatenate([it[0][i][0].numpy(), out[i].reshape(28, 28)]), cmap='binary')\n",
    "    plt.axis('off')\n",
    "\n",
    "plt.show()"
   ]
  },
  {
   "cell_type": "code",
   "execution_count": 38,
   "metadata": {},
   "outputs": [],
   "source": [
    "dist = D.Normal(torch.zeros(16), torch.ones(16))"
   ]
  },
  {
   "cell_type": "code",
   "execution_count": 39,
   "metadata": {},
   "outputs": [],
   "source": [
    "f = dist.sample((100,))"
   ]
  },
  {
   "cell_type": "code",
   "execution_count": 40,
   "metadata": {},
   "outputs": [],
   "source": [
    "out = model.decoder(f).sigmoid().detach().numpy()"
   ]
  },
  {
   "cell_type": "code",
   "execution_count": 41,
   "metadata": {},
   "outputs": [
    {
     "data": {
      "image/png": "[encoded data removed]",
      "text/plain": [
       "<Figure size 900x600 with 10 Axes>"
      ]
     },
     "metadata": {
      "needs_background": "light"
     },
     "output_type": "display_data"
    }
   ],
   "source": [
    "plt.figure(dpi=150)\n",
    "\n",
    "for i in range(10):\n",
    "    plt.subplot(1, 10, i+1)\n",
    "    plt.imshow(out[i].reshape(28, 28), cmap='binary')\n",
    "    plt.axis('off')\n",
    "\n",
    "plt.show()"
   ]
  },
  {
   "cell_type": "code",
   "execution_count": 42,
   "metadata": {},
   "outputs": [
    {
     "data": {
      "text/plain": [
       "Linear(in_features=32, out_features=16, bias=True)"
      ]
     },
     "execution_count": 42,
     "metadata": {},
     "output_type": "execute_result"
    }
   ],
   "source": [
    "nn.Linear(32, 16)"
   ]
  },
  {
   "cell_type": "code",
   "execution_count": null,
   "metadata": {},
   "outputs": [],
   "source": []
  }
 ],
 "metadata": {
  "kernelspec": {
   "display_name": "Python 3",
   "language": "python",
   "name": "python3"
  },
  "language_info": {
   "codemirror_mode": {
    "name": "ipython",
    "version": 3
   },
   "file_extension": ".py",
   "mimetype": "text/x-python",
   "name": "python",
   "nbconvert_exporter": "python",
   "pygments_lexer": "ipython3",
   "version": "3.7.5"
  }
 },
 "nbformat": 4,
 "nbformat_minor": 4
}
