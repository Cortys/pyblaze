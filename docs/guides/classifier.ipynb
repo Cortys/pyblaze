{
 "cells": [
  {
   "cell_type": "markdown",
   "metadata": {},
   "source": [
    "# Training a Classifier\n",
    "\n",
    "[![Open In Colab](https://colab.research.google.com/assets/colab-badge.svg)](https://colab.research.google.com/github/borchero/pyblaze/blob/master/docs/guides/classifier.ipynb)\n",
    "[![Download Jupyter Notebbok](https://img.shields.io/badge/Github-Download-brightgreen)](https://github.com/borchero/pyblaze/blob/master/docs/guides/classifier.ipynb)\n",
    "\n",
    "Training a classifier on images is one of the most prominent examples showcasing what a library can do. Inspired by PyTorch’s tutorials, we want to train a convolutional neural network on the CIFAR10 dataset using the features of PyBlaze.\n",
    "\n",
    "At first, we import all libraries that we’re going to use throughout this example:"
   ]
  },
  {
   "cell_type": "code",
   "execution_count": 1,
   "metadata": {},
   "outputs": [],
   "source": [
    "import torch.nn as nn\n",
    "import torch.nn.functional as F\n",
    "import torch.optim as optim\n",
    "import torchvision\n",
    "import torchvision.transforms as transforms\n",
    "import pyblaze.nn as xnn\n",
    "import pyblaze.nn.functional as X\n",
    "import matplotlib.pyplot as plt"
   ]
  },
  {
   "cell_type": "markdown",
   "metadata": {},
   "source": [
    "## Loading the Data\n",
    "\n",
    "At the beginning, we load our data conveniently using torchvision. PyBlaze does not come into play yet."
   ]
  },
  {
   "cell_type": "code",
   "execution_count": 2,
   "metadata": {},
   "outputs": [
    {
     "name": "stdout",
     "output_type": "stream",
     "text": [
      "Files already downloaded and verified\n",
      "Files already downloaded and verified\n"
     ]
    }
   ],
   "source": [
    "train_val_dataset = torchvision.datasets.CIFAR10(\n",
    "    root=\"~/Downloads/\", train=True, download=True, transform=transforms.Compose([\n",
    "        transforms.RandomHorizontalFlip(),\n",
    "        transforms.ToTensor()\n",
    "    ])\n",
    ")\n",
    "test_dataset = torchvision.datasets.CIFAR10(\n",
    "    root=\"~/Downloads/\", train=False, download=True, transform=transforms.ToTensor()\n",
    ")"
   ]
  },
  {
   "cell_type": "markdown",
   "metadata": {},
   "source": [
    "### Initializing Data Loaders\n",
    "\n",
    "First, we set aside 20% of all training data for validation. Usually, you would need to compute the sizes of the resulting subsets and then split the dataset randomly. However, using PyBlaze, you can do this more conveniently.\n",
    "\n",
    "By simply importing pyblaze.nn, datasets receive an additional function random_split. This accepts arbitrarily many floating point numbers indicating the fraction of the dataset to be randomly sampled into subsets. Note that these numbers need to add to 1."
   ]
  },
  {
   "cell_type": "code",
   "execution_count": 3,
   "metadata": {},
   "outputs": [],
   "source": [
    "train_dataset, val_dataset = train_val_dataset.random_split(0.8, 0.2)"
   ]
  },
  {
   "cell_type": "markdown",
   "metadata": {},
   "source": [
    "Finally, we can initialize the data loaders. Normally, you would initialize a data loader and pass the dataset to the initializer. However, this always feels odd. Hence, as soon as you import pyblaze.nn, we extend PyTorch’s native dataset with a loader method. The method creates a data loader while its parameters are the same as for PyTorch’s data loader initializer."
   ]
  },
  {
   "cell_type": "code",
   "execution_count": 4,
   "metadata": {},
   "outputs": [],
   "source": [
    "train_loader = train_dataset.loader(batch_size=256, num_workers=4, shuffle=True)\n",
    "val_loader = val_dataset.loader(batch_size=2048)\n",
    "test_loader = test_dataset.loader(batch_size=2048)"
   ]
  },
  {
   "cell_type": "markdown",
   "metadata": {},
   "source": [
    "Note that we set the batch size for validation and testing significantly higher than for training: as we are running the model in eval mode, no gradients need to be stored and much less memory is required."
   ]
  },
  {
   "cell_type": "markdown",
   "metadata": {},
   "source": [
    "## Defining the Model\n",
    "\n",
    "As a model, we define a common convolutional neural network. Most importantly, defining a model for PyBlaze is no different than defining a model natively in PyTorch. However, PyBlaze provides additional functionality to make it easier working with models.\n",
    "\n",
    "One feature that we are using here is the Estimator mixin. Conforming to this class adds three methods to the model: `fit`, `evaluate` and `predict`. While you may implement these methods yourself, the default implementation delegates the functionality of these methods to an engine. The engine class is the heart of PyBlaze, driving the training of models. You may define the engine class to use using the `__engine__` class variable."
   ]
  },
  {
   "cell_type": "code",
   "execution_count": 5,
   "metadata": {},
   "outputs": [],
   "source": [
    "class Model(xnn.Estimator, nn.Module):\n",
    "\n",
    "    __engine__ = xnn.LabelEngine\n",
    "\n",
    "    def __init__(self):\n",
    "        super().__init__()\n",
    "        self.conv = nn.Sequential(\n",
    "            nn.Conv2d(3, 32, 3, padding=1),\n",
    "            nn.BatchNorm2d(32),\n",
    "            nn.ReLU(),\n",
    "            nn.Conv2d(32, 32, 3, padding=1),\n",
    "            nn.BatchNorm2d(32),\n",
    "            nn.ReLU(),\n",
    "            nn.MaxPool2d(2),\n",
    "            nn.Dropout(0.25),\n",
    "            \n",
    "            nn.Conv2d(32, 64, 3, padding=1),\n",
    "            nn.BatchNorm2d(64),\n",
    "            nn.ReLU(),\n",
    "            nn.Conv2d(64, 64, 3, padding=1),\n",
    "            nn.BatchNorm2d(64),\n",
    "            nn.ReLU(),\n",
    "            nn.MaxPool2d(2),\n",
    "            nn.Dropout(0.25),\n",
    "            \n",
    "            nn.Conv2d(64, 128, 3, padding=1),\n",
    "            nn.BatchNorm2d(128),\n",
    "            nn.ReLU(),\n",
    "            nn.Conv2d(128, 128, 3, padding=1),\n",
    "            nn.BatchNorm2d(128),\n",
    "            nn.ReLU(),\n",
    "            nn.MaxPool2d(2),\n",
    "            nn.Dropout(0.25),\n",
    "        )\n",
    "        self.fc = nn.Linear(2048, 10)\n",
    "\n",
    "    def forward(self, x):\n",
    "        x = self.conv(x)\n",
    "        x = x.view(-1, 2048)\n",
    "        return self.fc(x)"
   ]
  },
  {
   "cell_type": "markdown",
   "metadata": {},
   "source": [
    "Note that using the `Estimator` mixin is no requirement. You may also initialize the engine explicitly while passing the model and then call `train` or related methods on the engine. This has the same effect. However, defining a default engine to use is useful in cases where the model is used in many different places in a program and always requires the same engine.\n",
    "\n",
    "Likewise, it is a useful feature for developing libraries: when defining a model, an engine can be used to decouple training code from the model definition. Setting a default engine can then bind the training code to the model and hide the complexity of initializing an extra engine from the end user.\n",
    "\n",
    "Initializing a model is as simple as for pure PyTorch modules. In case the model has some configuration parameters and you want to save the model’s architecture along with its weights to a file, consider using the `xnn.Configurable` mixin (see the class documentation)."
   ]
  },
  {
   "cell_type": "code",
   "execution_count": 6,
   "metadata": {},
   "outputs": [],
   "source": [
    "model = Model()"
   ]
  },
  {
   "cell_type": "code",
   "execution_count": 7,
   "metadata": {},
   "outputs": [
    {
     "name": "stdout",
     "output_type": "stream",
     "text": [
      "Model has 308,394 parameters.\n"
     ]
    }
   ],
   "source": [
    "print(f\"Model has {sum(p.numel() for p in model.parameters()):,} parameters.\")"
   ]
  },
  {
   "cell_type": "markdown",
   "metadata": {},
   "source": [
    "## Training the Model"
   ]
  },
  {
   "cell_type": "markdown",
   "metadata": {},
   "source": [
    "Model training and evaluation is the core feature of PyBlaze. The following code trains the model as follows:\n",
    "\n",
    "* By calling fit on the model itself, we use the model’s default engine and call its train method with the provided parameters.\n",
    "* We train with the data from train_loader and evaluate the performance after every epoch with data from val_loader.\n",
    "* We train for 20 epochs (max) and use early stopping with a patience of 3 epochs. By default, we watch the validation loss when using early stopping. This can, however, be changed in a simple way.\n",
    "* We use Adam with its default parameters as optimizer and minimize the cross entropy loss.\n",
    "* We log the progress of each batch to the command line.\n",
    "* We compute the accuracy of the predictions of the validation data after every epoch.\n",
    "* The result of this call is a history object which aggregates information about the training. This includes train losses after every batch as well as epoch. Further, it includes validation losses and validation metrics after every epoch."
   ]
  },
  {
   "cell_type": "code",
   "execution_count": 8,
   "metadata": {},
   "outputs": [
    {
     "name": "stdout",
     "output_type": "stream",
     "text": [
      "Epoch 1/150:\n",
      "\u001b[2K [Elapsed 0:00:04] loss: 1.48766, val_accuracy: 0.49320, val_loss: 1.56725\n",
      "Epoch 2/150:\n",
      "\u001b[2K [Elapsed 0:00:03] loss: 1.01681] (100.0%) ETA 0:00:00 [Elapsed 0:00:03]\n",
      "Epoch 3/150:\n",
      "\u001b[2K [Elapsed 0:00:03] loss: 0.84759] (100.0%) ETA 0:00:00 [Elapsed 0:00:03]\n",
      "Epoch 4/150:\n",
      "\u001b[2K [Elapsed 0:00:03] loss: 0.74693] (100.0%) ETA 0:00:00 [Elapsed 0:00:03]\n",
      "Epoch 5/150:\n",
      "\u001b[2K [Elapsed 0:00:03] loss: 0.68817] (100.0%) ETA 0:00:00 [Elapsed 0:00:03]\n",
      "Epoch 6/150:\n",
      "\u001b[2K [Elapsed 0:00:04] loss: 0.63931, val_accuracy: 0.78090, val_loss: 0.63247\n",
      "Epoch 7/150:\n",
      "\u001b[2K [Elapsed 0:00:03] loss: 0.60193] (100.0%) ETA 0:00:00 [Elapsed 0:00:03]\n",
      "Epoch 8/150:\n",
      "\u001b[2K [Elapsed 0:00:03] loss: 0.56721] (100.0%) ETA 0:00:00 [Elapsed 0:00:03]\n",
      "Epoch 9/150:\n",
      "\u001b[2K [Elapsed 0:00:03] loss: 0.54051] (100.0%) ETA 0:00:00 [Elapsed 0:00:03]\n",
      "Epoch 10/150:\n",
      "\u001b[2K [Elapsed 0:00:03] loss: 0.51429] (100.0%) ETA 0:00:00 [Elapsed 0:00:03]\n",
      "Epoch 11/150:\n",
      "\u001b[2K [Elapsed 0:00:04] loss: 0.50027, val_accuracy: 0.78660, val_loss: 0.64588\n",
      "Epoch 12/150:\n",
      "\u001b[2K [Elapsed 0:00:03] loss: 0.48467] (100.0%) ETA 0:00:00 [Elapsed 0:00:03]\n",
      "Epoch 13/150:\n",
      "\u001b[2K [Elapsed 0:00:03] loss: 0.46693] (100.0%) ETA 0:00:00 [Elapsed 0:00:03]\n",
      "Epoch 14/150:\n",
      "\u001b[2K [Elapsed 0:00:03] loss: 0.45106] (100.0%) ETA 0:00:00 [Elapsed 0:00:03]\n",
      "Epoch 15/150:\n",
      "\u001b[2K [Elapsed 0:00:03] loss: 0.43145] (100.0%) ETA 0:00:00 [Elapsed 0:00:03]\n",
      "Epoch 16/150:\n",
      "\u001b[2K [Elapsed 0:00:04] loss: 0.42088, val_accuracy: 0.83540, val_loss: 0.48349\n",
      "Epoch 17/150:\n",
      "\u001b[2K [Elapsed 0:00:03] loss: 0.40736] (100.0%) ETA 0:00:00 [Elapsed 0:00:03]\n",
      "Epoch 18/150:\n",
      "\u001b[2K [Elapsed 0:00:03] loss: 0.39837] (100.0%) ETA 0:00:00 [Elapsed 0:00:03]\n",
      "Epoch 19/150:\n",
      "\u001b[2K [Elapsed 0:00:03] loss: 0.38672] (100.0%) ETA 0:00:00 [Elapsed 0:00:03]\n",
      "Epoch 20/150:\n",
      "\u001b[2K [Elapsed 0:00:03] loss: 0.37207] (100.0%) ETA 0:00:00 [Elapsed 0:00:03]\n",
      "Epoch 21/150:\n",
      "\u001b[2K [Elapsed 0:00:04] loss: 0.36653, val_accuracy: 0.84380, val_loss: 0.46488\n",
      "Epoch 22/150:\n",
      "\u001b[2K [Elapsed 0:00:03] loss: 0.35027] (100.0%) ETA 0:00:00 [Elapsed 0:00:03]\n",
      "Epoch 23/150:\n",
      "\u001b[2K [Elapsed 0:00:03] loss: 0.34611] (100.0%) ETA 0:00:00 [Elapsed 0:00:03]\n",
      "Epoch 24/150:\n",
      "\u001b[2K [Elapsed 0:00:03] loss: 0.33788] (100.0%) ETA 0:00:00 [Elapsed 0:00:03]\n",
      "Epoch 25/150:\n",
      "\u001b[2K [Elapsed 0:00:03] loss: 0.33423] (100.0%) ETA 0:00:00 [Elapsed 0:00:03]\n",
      "Epoch 26/150:\n",
      "\u001b[2K [Elapsed 0:00:04] loss: 0.32677, val_accuracy: 0.85710, val_loss: 0.43144\n",
      "Epoch 27/150:\n",
      "\u001b[2K [Elapsed 0:00:03] loss: 0.31804] (100.0%) ETA 0:00:00 [Elapsed 0:00:03]\n",
      "Epoch 28/150:\n",
      "\u001b[2K [Elapsed 0:00:03] loss: 0.30790] (100.0%) ETA 0:00:00 [Elapsed 0:00:03]\n",
      "Epoch 29/150:\n",
      "\u001b[2K [Elapsed 0:00:03] loss: 0.30044] (100.0%) ETA 0:00:00 [Elapsed 0:00:03]\n",
      "Epoch 30/150:\n",
      "\u001b[2K [Elapsed 0:00:03] loss: 0.29664] (100.0%) ETA 0:00:00 [Elapsed 0:00:03]\n",
      "Epoch 31/150:\n",
      "\u001b[2K [Elapsed 0:00:04] loss: 0.29305, val_accuracy: 0.86270, val_loss: 0.41585\n",
      "Epoch 32/150:\n",
      "\u001b[2K [Elapsed 0:00:03] loss: 0.28462] (100.0%) ETA 0:00:00 [Elapsed 0:00:03]\n",
      "Epoch 33/150:\n",
      "\u001b[2K [Elapsed 0:00:03] loss: 0.27578] (100.0%) ETA 0:00:00 [Elapsed 0:00:03]\n",
      "Epoch 34/150:\n",
      "\u001b[2K [Elapsed 0:00:03] loss: 0.27281] (100.0%) ETA 0:00:00 [Elapsed 0:00:03]\n",
      "Epoch 35/150:\n",
      "\u001b[2K [Elapsed 0:00:03] loss: 0.26841] (100.0%) ETA 0:00:00 [Elapsed 0:00:03]\n",
      "Epoch 36/150:\n",
      "\u001b[2K [Elapsed 0:00:04] loss: 0.26387, val_accuracy: 0.86410, val_loss: 0.41136\n",
      "Epoch 37/150:\n",
      "\u001b[2K [Elapsed 0:00:03] loss: 0.26344] (100.0%) ETA 0:00:00 [Elapsed 0:00:03]\n",
      "Epoch 38/150:\n",
      "\u001b[2K [Elapsed 0:00:03] loss: 0.25039] (100.0%) ETA 0:00:00 [Elapsed 0:00:03]\n",
      "Epoch 39/150:\n",
      "\u001b[2K [Elapsed 0:00:03] loss: 0.25513] (100.0%) ETA 0:00:00 [Elapsed 0:00:03]\n",
      "Epoch 40/150:\n",
      "\u001b[2K [Elapsed 0:00:03] loss: 0.24900] (100.0%) ETA 0:00:00 [Elapsed 0:00:03]\n",
      "Epoch 41/150:\n",
      "\u001b[2K [Elapsed 0:00:04] loss: 0.24197, val_accuracy: 0.86360, val_loss: 0.42767\n",
      "Epoch 42/150:\n",
      "\u001b[2K [Elapsed 0:00:03] loss: 0.24181] (100.0%) ETA 0:00:00 [Elapsed 0:00:03]\n",
      "Epoch 43/150:\n",
      "\u001b[2K [Elapsed 0:00:03] loss: 0.23353] (100.0%) ETA 0:00:00 [Elapsed 0:00:03]\n",
      "Epoch 44/150:\n",
      "\u001b[2K [Elapsed 0:00:03] loss: 0.22839] (100.0%) ETA 0:00:00 [Elapsed 0:00:03]\n",
      "Epoch 45/150:\n",
      "\u001b[2K [Elapsed 0:00:03] loss: 0.23191] (100.0%) ETA 0:00:00 [Elapsed 0:00:03]\n",
      "Epoch 46/150:\n",
      "\u001b[2K [Elapsed 0:00:04] loss: 0.22837, val_accuracy: 0.87690, val_loss: 0.37803\n",
      "Epoch 47/150:\n",
      "\u001b[2K [Elapsed 0:00:03] loss: 0.22746] (100.0%) ETA 0:00:00 [Elapsed 0:00:03]\n",
      "Epoch 48/150:\n",
      "\u001b[2K [Elapsed 0:00:03] loss: 0.22586] (100.0%) ETA 0:00:00 [Elapsed 0:00:03]\n",
      "Epoch 49/150:\n",
      "\u001b[2K [Elapsed 0:00:03] loss: 0.21912] (100.0%) ETA 0:00:00 [Elapsed 0:00:03]\n",
      "Epoch 50/150:\n",
      "\u001b[2K [Elapsed 0:00:03] loss: 0.21387] (100.0%) ETA 0:00:00 [Elapsed 0:00:03]\n",
      "Epoch 51/150:\n",
      "\u001b[2K [Elapsed 0:00:04] loss: 0.21604, val_accuracy: 0.87220, val_loss: 0.41479\n",
      "Epoch 52/150:\n",
      "\u001b[2K [Elapsed 0:00:03] loss: 0.21447] (100.0%) ETA 0:00:00 [Elapsed 0:00:03]\n",
      "Epoch 53/150:\n",
      "\u001b[2K [Elapsed 0:00:03] loss: 0.20730] (100.0%) ETA 0:00:00 [Elapsed 0:00:03]\n",
      "Epoch 54/150:\n",
      "\u001b[2K [Elapsed 0:00:03] loss: 0.20623] (100.0%) ETA 0:00:00 [Elapsed 0:00:03]\n",
      "Epoch 55/150:\n",
      "\u001b[2K [Elapsed 0:00:03] loss: 0.20175] (100.0%) ETA 0:00:00 [Elapsed 0:00:03]\n",
      "Epoch 56/150:\n",
      "\u001b[2K [Elapsed 0:00:04] loss: 0.20420, val_accuracy: 0.87770, val_loss: 0.38668\n",
      "Epoch 57/150:\n",
      "\u001b[2K [Elapsed 0:00:03] loss: 0.20394] (100.0%) ETA 0:00:00 [Elapsed 0:00:03]\n",
      "Epoch 58/150:\n",
      "\u001b[2K [Elapsed 0:00:03] loss: 0.19567] (100.0%) ETA 0:00:00 [Elapsed 0:00:03]\n",
      "Epoch 59/150:\n",
      "\u001b[2K [Elapsed 0:00:03] loss: 0.19856] (100.0%) ETA 0:00:00 [Elapsed 0:00:03]\n",
      "Epoch 60/150:\n",
      "\u001b[2K [Elapsed 0:00:03] loss: 0.19557] (100.0%) ETA 0:00:00 [Elapsed 0:00:03]\n",
      "Epoch 61/150:\n",
      "\u001b[2K [Elapsed 0:00:04] loss: 0.19416, val_accuracy: 0.87830, val_loss: 0.40221\n",
      "Early stopping after epoch 61 (patience 3).\n"
     ]
    }
   ],
   "source": [
    "optimizer = optim.Adam(model.parameters(), lr=1e-3, weight_decay=1e-4)\n",
    "history = model.fit(\n",
    "    train_loader,\n",
    "    val_data=val_loader,\n",
    "    epochs=150,\n",
    "    eval_every=5,\n",
    "    optimizer=optimizer,\n",
    "    loss=nn.CrossEntropyLoss(),\n",
    "    callbacks=[\n",
    "        xnn.BatchProgressLogger(),\n",
    "        xnn.EarlyStopping(patience=3)\n",
    "    ],\n",
    "    metrics={\n",
    "        'accuracy': X.accuracy\n",
    "    }\n",
    ")"
   ]
  },
  {
   "cell_type": "markdown",
   "metadata": {},
   "source": [
    "### Plotting the Losses\n",
    "\n",
    "With the information from the history object, we can plot the progress of our training. The history object always provides `micro_train_loss` summarizing the train losses after each batch as well as `train_loss` as the train losses after each epoch. Depending on additional parameters passed to the fit function, additional keys are available."
   ]
  },
  {
   "cell_type": "code",
   "execution_count": 9,
   "metadata": {},
   "outputs": [
    {
     "data": {
      "image/png": "[encoded data removed]",
      "text/plain": [
       "<Figure size 900x600 with 1 Axes>"
      ]
     },
     "metadata": {
      "needs_background": "light"
     },
     "output_type": "display_data"
    }
   ],
   "source": [
    "all_losses = history.batch_loss\n",
    "plt.figure(dpi=150)\n",
    "plt.plot(range(len(all_losses)), all_losses)\n",
    "plt.show()"
   ]
  },
  {
   "cell_type": "markdown",
   "metadata": {},
   "source": [
    "In our case, we used validation and therefore there exists a val_loss property on the history object. Theoretically, we would also be able to plot val_accuracy as all metrics are recorded in the history object as well."
   ]
  },
  {
   "cell_type": "code",
   "execution_count": 10,
   "metadata": {},
   "outputs": [],
   "source": [
    "import numpy as np"
   ]
  },
  {
   "cell_type": "code",
   "execution_count": 11,
   "metadata": {},
   "outputs": [
    {
     "data": {
      "image/png": "[encoded data removed]",
      "text/plain": [
       "<Figure size 900x600 with 1 Axes>"
      ]
     },
     "metadata": {
      "needs_background": "light"
     },
     "output_type": "display_data"
    }
   ],
   "source": [
    "plt.figure(dpi=150)\n",
    "plt.plot(range(len(history.loss)), history.loss, label='Training Loss')\n",
    "plt.plot(np.array(range(len(history.val_loss))) * 5, history.val_loss, label='Validation Loss')\n",
    "plt.legend()\n",
    "plt.show()"
   ]
  },
  {
   "cell_type": "markdown",
   "metadata": {},
   "source": [
    "As we can see, the losses are starting to diverge and the generalization gap becomes larger."
   ]
  },
  {
   "cell_type": "markdown",
   "metadata": {},
   "source": [
    "### Evaluating the Model\n",
    "\n",
    "Lastly, we want to evaluate the performance of our model. For this, we use our test data and call `evaluate` on the model. We are interested only in a single metric, the accuracy.\n",
    "\n",
    "The returned value is an `Evaluation` object which provides as attributes the metrics that were recorded. In our case, the only attribute is `accuracy`."
   ]
  },
  {
   "cell_type": "code",
   "execution_count": 12,
   "metadata": {},
   "outputs": [
    {
     "name": "stdout",
     "output_type": "stream",
     "text": [
      "\u001b[2K [Elapsed 0:00:01] =============] (100.0%) ETA 0:00:00 [Elapsed 0:00:01]\n"
     ]
    }
   ],
   "source": [
    "evaluation = model.evaluate(\n",
    "    test_loader,\n",
    "    callbacks=[\n",
    "        xnn.PredictionProgressLogger()\n",
    "    ],\n",
    "    metrics={\n",
    "        'accuracy': X.accuracy\n",
    "    }\n",
    ")"
   ]
  },
  {
   "cell_type": "code",
   "execution_count": 13,
   "metadata": {},
   "outputs": [
    {
     "name": "stdout",
     "output_type": "stream",
     "text": [
      "Our model achieves an accuracy of 87.36%.\n"
     ]
    }
   ],
   "source": [
    "print(f\"Our model achieves an accuracy of {evaluation['accuracy']:.2%}.\")"
   ]
  },
  {
   "cell_type": "markdown",
   "metadata": {},
   "source": [
    "## Using GPUs\n",
    "\n",
    "As PyBlaze is a framework dedicated for large-scale machine learning, it has first-class support for GPUs. In fact, in order to run training and evaluation on a GPU, **you do not have to do anything**. In fact, if you had a GPU at your disposal when running this tutorial, you already used it. Generally, PyBlaze will use all available GPUs automatically, speeding up training as much as possible.\n",
    "\n",
    "If you have multiple GPUs and want to use a specific one, just pass `gpu=<ID>` to any of the functions above. Likewise, you can select a subset of GPUs by providing `gpu=[<ID1>, <ID2>, …]` or no GPU at all by using `gpu=False`.\n",
    "\n",
    "A special case is `gpu=True` which chooses a single GPU: the one with the most amount of free memory."
   ]
  }
 ],
 "metadata": {
  "kernelspec": {
   "display_name": "Python 3",
   "language": "python",
   "name": "python3"
  },
  "language_info": {
   "codemirror_mode": {
    "name": "ipython",
    "version": 3
   },
   "file_extension": ".py",
   "mimetype": "text/x-python",
   "name": "python",
   "nbconvert_exporter": "python",
   "pygments_lexer": "ipython3",
   "version": "3.7.5"
  }
 },
 "nbformat": 4,
 "nbformat_minor": 4
}
